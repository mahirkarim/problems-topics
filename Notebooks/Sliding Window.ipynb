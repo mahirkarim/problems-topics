{
 "cells": [
  {
   "cell_type": "markdown",
   "metadata": {},
   "source": [
    "### Summary"
   ]
  },
  {
   "cell_type": "markdown",
   "metadata": {},
   "source": [
    "Create continuous subsets (fixed or variable size) of a data structure to simplify nested loop problems. Can reduce complexity to O(n) or O(n log n)."
   ]
  },
  {
   "cell_type": "markdown",
   "metadata": {},
   "source": [
    "### Generalized Steps"
   ]
  },
  {
   "cell_type": "markdown",
   "metadata": {},
   "source": [
    "Naive Fixed:  \n",
    "1. Find required window size\n",
    "2. Get result for first window\n",
    "3. Move window over by one and recompute til target reached or fully computed\n",
    "\n",
    "Variable:  \n",
    "1. Start with smallest practical window and compute result\n",
    "2. Expand window size (increment right pointer) and recompute until condition satisfied  \n",
    "3. Shrink window size (increment left pointer) until condition resatisfied\n",
    "4. Continue to end of array\n",
    "\n",
    "\n",
    "sources: https://www.geeksforgeeks.org/window-sliding-technique/ https://builtin.com/data-science/sliding-window-algorithm https://stackoverflow.com/questions/8269916/what-is-sliding-window-algorithm-examples"
   ]
  },
  {
   "cell_type": "markdown",
   "metadata": {},
   "source": [
    "### Easy Problem (Medium on Leetcode)"
   ]
  },
  {
   "cell_type": "markdown",
   "metadata": {},
   "source": [
    "\"Minimum Size Subarray Sum\"  \n",
    "\n",
    "Given an array of positive integers nums and a positive integer target, return the minimal length of a \n",
    "subarray\n",
    " whose sum is greater than or equal to target. If there is no such subarray, return 0 instead.\n",
    "\n",
    " \n",
    "\n",
    "Example 1:\n",
    "\n",
    "Input: target = 7, nums = [2,3,1,2,4,3]\n",
    "Output: 2\n",
    "Explanation: The subarray [4,3] has the minimal length under the problem constraint.\n",
    "Example 2:\n",
    "\n",
    "Input: target = 4, nums = [1,4,4]\n",
    "Output: 1\n",
    "Example 3:\n",
    "\n",
    "Input: target = 11, nums = [1,1,1,1,1,1,1,1]\n",
    "Output: 0\n",
    " \n",
    "\n",
    "Constraints:\n",
    "\n",
    "1 <= target <= 109\n",
    "1 <= nums.length <= 105\n",
    "1 <= nums[i] <= 104\n",
    " \n",
    "\n",
    "Follow up: If you have figured out the O(n) solution, try coding another solution of which the time complexity is O(n log(n)).\n",
    "\n",
    "from https://leetcode.com/problems/minimum-size-subarray-sum/description/?envType=study-plan-v2&envId=top-interview-150"
   ]
  },
  {
   "cell_type": "markdown",
   "metadata": {},
   "source": [
    "### Solutions"
   ]
  },
  {
   "cell_type": "code",
   "execution_count": 62,
   "metadata": {},
   "outputs": [],
   "source": [
    "# exceeds time limit on test case 19\n",
    "def minSubArrayLen(target, nums) -> int:\n",
    "    # nums -> array of positive ints\n",
    "    # target -> positive int\n",
    "    # return minimal length of subarray with sum >= target, or 0\n",
    "\n",
    "    left = 0\n",
    "    right = 1\n",
    "    nums_length = len(nums)\n",
    "    length = 0\n",
    "\n",
    "    while right <= nums_length:\n",
    "        while sum(nums[left:right]) < target and right <= nums_length:\n",
    "            right += 1\n",
    "            if right > nums_length:\n",
    "                return length\n",
    "            \n",
    "        curr_len = len(nums[left:right])\n",
    "        if curr_len == 1:\n",
    "            return 1\n",
    "        left += 1\n",
    "\n",
    "        while sum(nums[left:right]) >= target:\n",
    "            curr_len -= 1\n",
    "            left += 1\n",
    "\n",
    "        if length == 0 or length > curr_len:\n",
    "            length = curr_len\n",
    "    \n",
    "    \n",
    "    return 0"
   ]
  },
  {
   "cell_type": "code",
   "execution_count": 66,
   "metadata": {},
   "outputs": [],
   "source": [
    "# also exceeds time limit on case 19\n",
    "def minSubArrayLen(target, nums) -> int:\n",
    "    left = 0\n",
    "    right = 1\n",
    "    nums_length = len(nums)\n",
    "    length = 0\n",
    "    \n",
    "    while right <= nums_length:\n",
    "        if sum(nums[left:right]) < target:\n",
    "            right += 1\n",
    "        else:\n",
    "            curr_len = right-left\n",
    "            left += 1\n",
    "            if length == 0 or length > curr_len:\n",
    "                length = curr_len\n",
    "    \n",
    "    return length"
   ]
  },
  {
   "cell_type": "code",
   "execution_count": 76,
   "metadata": {},
   "outputs": [],
   "source": [
    "# beats 80% on speed and 93% on memory by avoiding recomputing full sum\n",
    "def minSubArrayLen(target, nums) -> int:\n",
    "    left = 0\n",
    "    right = 0\n",
    "    nums_length = len(nums)\n",
    "    length = 0\n",
    "    running_sum = 0\n",
    "\n",
    "    while right <= nums_length:\n",
    "        if running_sum < target:\n",
    "            try:\n",
    "                running_sum += nums[right]\n",
    "            except:\n",
    "                break\n",
    "            right += 1\n",
    "        else:\n",
    "            curr_len = right-left\n",
    "            running_sum -= nums[left]\n",
    "            left += 1\n",
    "            if length == 0 or length > curr_len:\n",
    "                length = curr_len\n",
    "    \n",
    "    \n",
    "    return length"
   ]
  }
 ],
 "metadata": {
  "kernelspec": {
   "display_name": "base",
   "language": "python",
   "name": "python3"
  },
  "language_info": {
   "codemirror_mode": {
    "name": "ipython",
    "version": 3
   },
   "file_extension": ".py",
   "mimetype": "text/x-python",
   "name": "python",
   "nbconvert_exporter": "python",
   "pygments_lexer": "ipython3",
   "version": "3.11.3"
  }
 },
 "nbformat": 4,
 "nbformat_minor": 2
}
