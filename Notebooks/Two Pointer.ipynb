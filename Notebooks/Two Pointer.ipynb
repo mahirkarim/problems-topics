{
 "cells": [
  {
   "cell_type": "markdown",
   "metadata": {},
   "source": [
    "### Summary / Use Case"
   ]
  },
  {
   "cell_type": "markdown",
   "metadata": {},
   "source": [
    "Find pairs of elements in a sorted array by iterating two indices. O(n) given a sorted array -- otherwise constrained by the complexity of sorting algorithm."
   ]
  },
  {
   "cell_type": "markdown",
   "metadata": {},
   "source": [
    "### Generalized Steps"
   ]
  },
  {
   "cell_type": "markdown",
   "metadata": {},
   "source": [
    "1. Sort array  \n",
    "2. Create pointers to the beginning and end of the range you want to check  \n",
    "3. Check if the two elements at those indices satisfy condition together  \n",
    "4. Either increment left pointer, decrement right pointer, or both depending on target  \n",
    "    - For instance, if you want two numbers to sum to a third, and the two numbers sum to something smaller, increment the left pointer. If they sum to a greater number, decrement the right pointer.\n",
    "    - If you are looking for matching pairs or multiple pairs, verify they satisfy the condition then move both pointers."
   ]
  },
  {
   "cell_type": "markdown",
   "metadata": {},
   "source": [
    "### Easy Problem\n",
    "\n",
    "\"Valid Palindrome\"\n",
    "\n",
    "A phrase is a palindrome if, after converting all uppercase letters into lowercase letters and removing all non-alphanumeric characters, it reads the same forward and backward. Alphanumeric characters include letters and numbers.\n",
    "\n",
    "Given a string s, return true if it is a palindrome, or false otherwise.\n",
    "\n",
    " \n",
    "\n",
    "Example 1:\n",
    "\n",
    "Input: s = \"A man, a plan, a canal: Panama\"\n",
    "Output: true\n",
    "Explanation: \"amanaplanacanalpanama\" is a palindrome.\n",
    "Example 2:\n",
    "\n",
    "Input: s = \"race a car\"\n",
    "Output: false\n",
    "Explanation: \"raceacar\" is not a palindrome.\n",
    "Example 3:\n",
    "\n",
    "Input: s = \" \"\n",
    "Output: true\n",
    "Explanation: s is an empty string \"\" after removing non-alphanumeric characters.\n",
    "Since an empty string reads the same forward and backward, it is a palindrome.\n",
    " \n",
    "\n",
    "Constraints:\n",
    "\n",
    "1 <= s.length <= 2 * 105  \n",
    "s consists only of printable ASCII characters.\n",
    "\n",
    "\n",
    "\n",
    " from https://leetcode.com/problems/valid-palindrome/description/?envType=study-plan-v2&envId=top-interview-150"
   ]
  },
  {
   "cell_type": "markdown",
   "metadata": {},
   "source": [
    "### Solution:"
   ]
  },
  {
   "cell_type": "code",
   "execution_count": 24,
   "metadata": {},
   "outputs": [],
   "source": [
    "import re\n",
    "\n",
    "def isPalindrome(s: str) -> bool:\n",
    "\n",
    "    # strip non alphanumeric characters and make lowercase\n",
    "    s = re.sub(r'\\W+', '', s).replace('_','').lower()\n",
    "\n",
    "    # initialize indices\n",
    "    i = -1\n",
    "    j = len(s)\n",
    "\n",
    "    # handle \" \" case\n",
    "    if j == 0:\n",
    "        return True\n",
    "    \n",
    "    # check whether s[i] and s[j] are equal, and increment/decrement if so\n",
    "    # break loop and return false if they at any point are not equal\n",
    "    while i < j:\n",
    "        i += 1\n",
    "        j -= 1\n",
    "        if s[i] != s[j]:\n",
    "            return False\n",
    "    return True\n"
   ]
  },
  {
   "cell_type": "code",
   "execution_count": null,
   "metadata": {},
   "outputs": [],
   "source": []
  }
 ],
 "metadata": {
  "kernelspec": {
   "display_name": "base",
   "language": "python",
   "name": "python3"
  },
  "language_info": {
   "codemirror_mode": {
    "name": "ipython",
    "version": 3
   },
   "file_extension": ".py",
   "mimetype": "text/x-python",
   "name": "python",
   "nbconvert_exporter": "python",
   "pygments_lexer": "ipython3",
   "version": "3.11.3"
  }
 },
 "nbformat": 4,
 "nbformat_minor": 2
}
