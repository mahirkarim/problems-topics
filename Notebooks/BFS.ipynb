{
 "cells": [
  {
   "cell_type": "markdown",
   "metadata": {},
   "source": [
    "## General"
   ]
  },
  {
   "cell_type": "markdown",
   "metadata": {},
   "source": [
    "### Summary"
   ]
  },
  {
   "cell_type": "markdown",
   "metadata": {},
   "source": [
    "Graph search algorithm where all nodes at the current depth are explored before proceeding to next depth. Optimal for unweighted graphs. Typically requires more memory than depth first search but avoids getting lost in infinite branches. Typically uses a queue (FIFO) for non-recursive implementation (as opposed to DFS using a stack)."
   ]
  },
  {
   "cell_type": "markdown",
   "metadata": {},
   "source": [
    "### Pattern"
   ]
  },
  {
   "cell_type": "markdown",
   "metadata": {},
   "source": [
    "1. Pick starting node, mark it as visited, add it to a queue\n",
    "2. Check first node in queue for adjacent unvisited nodes  \n",
    "3. Case 1 -- Adjacent nodes: visit one, mark it as visited, and insert it into queue  \n",
    "Case 2 -- No adjacent node: remove current node from queue  \n",
    "4. Go back to step 2 until queue is exhausted "
   ]
  },
  {
   "cell_type": "markdown",
   "metadata": {},
   "source": [
    "Sources: https://en.wikipedia.org/wiki/Breadth-first_search https://www.tutorialspoint.com/data_structures_algorithms/breadth_first_traversal.htm https://www.hackerearth.com/practice/algorithms/graphs/breadth-first-search/tutorial/ https://www.geeksforgeeks.org/breadth-first-search-or-bfs-for-a-graph/#google_vignette"
   ]
  },
  {
   "cell_type": "markdown",
   "metadata": {},
   "source": [
    "## Binary Tree"
   ]
  },
  {
   "cell_type": "markdown",
   "metadata": {},
   "source": [
    "### Generalized Steps"
   ]
  },
  {
   "cell_type": "markdown",
   "metadata": {},
   "source": []
  },
  {
   "cell_type": "markdown",
   "metadata": {},
   "source": [
    "### Easy Problem"
   ]
  },
  {
   "cell_type": "markdown",
   "metadata": {},
   "source": [
    "\"Average of Levels in Binary Tree\"\n",
    "\n",
    "Given the root of a binary tree, return the average value of the nodes on each level in the form of an array. Answers within 10-5 of the actual answer will be accepted.\n",
    " \n",
    "\n",
    "Example 1:\n",
    "\n",
    "\n",
    "Input: root = [3,9,20,null,null,15,7]\n",
    "Output: [3.00000,14.50000,11.00000]\n",
    "Explanation: The average value of nodes on level 0 is 3, on level 1 is 14.5, and on level 2 is 11.\n",
    "Hence return [3, 14.5, 11].\n",
    "Example 2:\n",
    "\n",
    "\n",
    "Input: root = [3,9,20,15,7]\n",
    "Output: [3.00000,14.50000,11.00000]\n",
    " \n",
    "\n",
    "Constraints:\n",
    "\n",
    "The number of nodes in the tree is in the range [1, 104].\n",
    "-231 <= Node.val <= 231 - 1\n",
    "\n",
    "See source for helpful graphs: https://leetcode.com/problems/average-of-levels-in-binary-tree/description/?envType=study-plan-v2&envId=top-interview-150"
   ]
  },
  {
   "cell_type": "code",
   "execution_count": 7,
   "metadata": {},
   "outputs": [],
   "source": [
    "class TreeNode:\n",
    "    def __init__(self, val=0, left=None, right=None):\n",
    "        self.val = val\n",
    "        self.left = left\n",
    "        self.right = right\n",
    "\n",
    "def testTreeNode():\n",
    "    root = TreeNode(0, TreeNode(1, None, None), TreeNode(2, None, None))\n",
    "    print(root.left)\n",
    "    visited_dict = {}\n",
    "    visited_dict[root] = 1\n",
    "    visited_dict[root.left] = 0\n",
    "    print(visited_dict)\n",
    "\n",
    "def averageOfLevels(root=TreeNode):\n",
    "    if root.left == None and root.right == None:\n",
    "        return [root.val]\n",
    "    \n",
    "    # every level, double terminating nodes then add new ones\n",
    "    terminating_nodes = 0\n",
    "    x = 0\n",
    "    level_target = 2 ** x - terminating_nodes\n",
    "    node_count = 0\n",
    "\n",
    "    avg_list = []\n",
    "    current_sum = 0\n",
    "    node_queue = []\n",
    "\n",
    "    node_queue.append(root)\n",
    "\n",
    "    for node in node_queue:\n",
    "        node_count += 1\n",
    "\n",
    "        if node_count > level_target:\n",
    "            node_count = 1\n",
    "            avg_list.append(current_sum / level_target)\n",
    "            current_sum = 0\n",
    "            x += 1\n",
    "            level_target = 2 ** x - terminating_nodes\n",
    "            terminating_nodes *= 2\n",
    "\n",
    "        if node.left is not None:\n",
    "            node_queue.append(node.left)\n",
    "        else:\n",
    "            terminating_nodes += 1\n",
    "        if node.right is not None:\n",
    "            node_queue.append(node.right)\n",
    "        else:\n",
    "            terminating_nodes += 1\n",
    "        \n",
    "        current_sum += node.val\n",
    "\n",
    "    avg_list.append(current_sum / level_target)\n",
    "    return avg_list\n",
    "        \n",
    "\n",
    "\n",
    "\n"
   ]
  },
  {
   "cell_type": "code",
   "execution_count": null,
   "metadata": {},
   "outputs": [],
   "source": [
    "# LeetCode solution, way smarter to just store the level in a tuple\n",
    "from collections import deque, defaultdict\n",
    "class Solution:\n",
    "    def averageOfLevels(self, root: Optional[TreeNode]) -> List[float]:\n",
    "        qq = deque([(root,0)])\n",
    "        levels = dict()\n",
    "        while qq:\n",
    "            node, level = qq.pop()\n",
    "            if level in levels:\n",
    "                levels[level][0] += 1\n",
    "                levels[level][1] += node.val\n",
    "            else:\n",
    "                levels[level] = [1, node.val]\n",
    "            if node.left:\n",
    "                qq.append((node.left, level + 1))\n",
    "            if node.right:\n",
    "                qq.append((node.right, level + 1))\n",
    "        return [it[1][1]/it[1][0] for it in sorted(levels.items())]"
   ]
  },
  {
   "cell_type": "code",
   "execution_count": 69,
   "metadata": {},
   "outputs": [],
   "source": [
    "# this is if already given in a queue, not using the TreeNode class\n",
    "from statistics import mean \n",
    "\n",
    "def averageOfLevels(root):\n",
    "    # basic pattern for the tree:\n",
    "    # child_1 = (parent + 1) * 2 - 1\n",
    "    # child_2 = child_1 + 1\n",
    "\n",
    "    # alternatively: nodes = root[2 ^ (level-1): 2 ^ level]\n",
    "\n",
    "    # root is already given in a queue, so just traverse (sliding window)\n",
    "    level = 0\n",
    "    left = 0\n",
    "    right = (2 ** (level))\n",
    "    length  = len(root)\n",
    "    averages = []\n",
    "\n",
    "    while right < length:\n",
    "        level_nodes = [x for x in root[left:right] if x is not None]\n",
    "        averages.append(mean(level_nodes))\n",
    "        level += 1\n",
    "        left = right\n",
    "        right = right + (2 ** (level))\n",
    "        \n",
    "\n",
    "    \n",
    "    if right > length:\n",
    "        right = length \n",
    "    \n",
    "    level_nodes = [x for x in root[left:right] if x is not None]\n",
    "    averages.append(mean(level_nodes))\n",
    "\n",
    "    return averages"
   ]
  },
  {
   "cell_type": "markdown",
   "metadata": {},
   "source": [
    "## Graph"
   ]
  },
  {
   "cell_type": "markdown",
   "metadata": {},
   "source": [
    "### Generalized Steps"
   ]
  },
  {
   "cell_type": "markdown",
   "metadata": {},
   "source": []
  },
  {
   "cell_type": "markdown",
   "metadata": {},
   "source": [
    "### Easy Problem (Leetcode Medium)"
   ]
  },
  {
   "cell_type": "markdown",
   "metadata": {},
   "source": [
    "\"Minimum Genetic Mutation\"\n",
    "\n",
    "A gene string can be represented by an 8-character long string, with choices from 'A', 'C', 'G', and 'T'.\n",
    "\n",
    "Suppose we need to investigate a mutation from a gene string startGene to a gene string endGene where one mutation is defined as one single character changed in the gene string.\n",
    "\n",
    "For example, \"AACCGGTT\" --> \"AACCGGTA\" is one mutation.\n",
    "There is also a gene bank bank that records all the valid gene mutations. A gene must be in bank to make it a valid gene string.\n",
    "\n",
    "Given the two gene strings startGene and endGene and the gene bank bank, return the minimum number of mutations needed to mutate from startGene to endGene. If there is no such a mutation, return -1.\n",
    "\n",
    "Note that the starting point is assumed to be valid, so it might not be included in the bank.\n",
    "\n",
    " \n",
    "\n",
    "Example 1:\n",
    "\n",
    "Input: startGene = \"AACCGGTT\", endGene = \"AACCGGTA\", bank = [\"AACCGGTA\"]\n",
    "Output: 1\n",
    "Example 2:\n",
    "\n",
    "Input: startGene = \"AACCGGTT\", endGene = \"AAACGGTA\", bank = [\"AACCGGTA\",\"AACCGCTA\",\"AAACGGTA\"]\n",
    "Output: 2\n",
    " \n",
    "\n",
    "Constraints:\n",
    "\n",
    "0 <= bank.length <= 10\n",
    "startGene.length == endGene.length == bank[i].length == 8\n",
    "startGene, endGene, and bank[i] consist of only the characters ['A', 'C', 'G', 'T'].\n",
    "\n",
    "Source: https://leetcode.com/problems/minimum-genetic-mutation/description/?envType=study-plan-v2&envId=top-interview-150"
   ]
  },
  {
   "cell_type": "code",
   "execution_count": null,
   "metadata": {},
   "outputs": [],
   "source": [
    "def minMutation(self, startGene: str, endGene: str, bank: List[str]) -> int:\n",
    "    "
   ]
  }
 ],
 "metadata": {
  "kernelspec": {
   "display_name": "base",
   "language": "python",
   "name": "python3"
  },
  "language_info": {
   "codemirror_mode": {
    "name": "ipython",
    "version": 3
   },
   "file_extension": ".py",
   "mimetype": "text/x-python",
   "name": "python",
   "nbconvert_exporter": "python",
   "pygments_lexer": "ipython3",
   "version": "3.11.3"
  }
 },
 "nbformat": 4,
 "nbformat_minor": 2
}
