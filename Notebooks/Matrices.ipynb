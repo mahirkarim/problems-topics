{
 "cells": [
  {
   "cell_type": "markdown",
   "metadata": {},
   "source": [
    "https://leetcode.com/problems/valid-sudoku/description/?envType=study-plan-v2&envId=top-interview-150\n",
    "\n",
    "Determine if a 9 x 9 Sudoku board is valid. Only the filled cells need to be validated according to the following rules:\n",
    "\n",
    "Each row must contain the digits 1-9 without repetition.\n",
    "Each column must contain the digits 1-9 without repetition.\n",
    "Each of the nine 3 x 3 sub-boxes of the grid must contain the digits 1-9 without repetition.\n",
    "Note:\n",
    "\n",
    "A Sudoku board (partially filled) could be valid but is not necessarily solvable.\n",
    "Only the filled cells need to be validated according to the mentioned rules.\n",
    " \n",
    "\n",
    "Example 1:\n",
    "\n",
    "\n",
    "Input: board = \n",
    "[[\"5\",\"3\",\".\",\".\",\"7\",\".\",\".\",\".\",\".\"]\n",
    ",[\"6\",\".\",\".\",\"1\",\"9\",\"5\",\".\",\".\",\".\"]\n",
    ",[\".\",\"9\",\"8\",\".\",\".\",\".\",\".\",\"6\",\".\"]\n",
    ",[\"8\",\".\",\".\",\".\",\"6\",\".\",\".\",\".\",\"3\"]\n",
    ",[\"4\",\".\",\".\",\"8\",\".\",\"3\",\".\",\".\",\"1\"]\n",
    ",[\"7\",\".\",\".\",\".\",\"2\",\".\",\".\",\".\",\"6\"]\n",
    ",[\".\",\"6\",\".\",\".\",\".\",\".\",\"2\",\"8\",\".\"]\n",
    ",[\".\",\".\",\".\",\"4\",\"1\",\"9\",\".\",\".\",\"5\"]\n",
    ",[\".\",\".\",\".\",\".\",\"8\",\".\",\".\",\"7\",\"9\"]]\n",
    "Output: true\n",
    "Example 2:\n",
    "\n",
    "Input: board = \n",
    "[[\"8\",\"3\",\".\",\".\",\"7\",\".\",\".\",\".\",\".\"]\n",
    ",[\"6\",\".\",\".\",\"1\",\"9\",\"5\",\".\",\".\",\".\"]\n",
    ",[\".\",\"9\",\"8\",\".\",\".\",\".\",\".\",\"6\",\".\"]\n",
    ",[\"8\",\".\",\".\",\".\",\"6\",\".\",\".\",\".\",\"3\"]\n",
    ",[\"4\",\".\",\".\",\"8\",\".\",\"3\",\".\",\".\",\"1\"]\n",
    ",[\"7\",\".\",\".\",\".\",\"2\",\".\",\".\",\".\",\"6\"]\n",
    ",[\".\",\"6\",\".\",\".\",\".\",\".\",\"2\",\"8\",\".\"]\n",
    ",[\".\",\".\",\".\",\"4\",\"1\",\"9\",\".\",\".\",\"5\"]\n",
    ",[\".\",\".\",\".\",\".\",\"8\",\".\",\".\",\"7\",\"9\"]]\n",
    "Output: false\n",
    "Explanation: Same as Example 1, except with the 5 in the top left corner being modified to 8. Since there are two 8's in the top left 3x3 sub-box, it is invalid.\n",
    " \n",
    "\n",
    "Constraints:\n",
    "\n",
    "board.length == 9\n",
    "board[i].length == 9\n",
    "board[i][j] is a digit 1-9 or '.'."
   ]
  },
  {
   "cell_type": "code",
   "execution_count": 8,
   "metadata": {},
   "outputs": [],
   "source": [
    "import pandas as pd\n",
    "def isValidSudoku(board) -> bool:\n",
    "    df = pd.DataFrame({'row':[],'column':[],'square':[],'val':[]})\n",
    "    row = 0\n",
    "    column = 0\n",
    "\n",
    "    for vals in board:\n",
    "        for val in vals:\n",
    "            square = (row//3, column//3)\n",
    "            df.append({'row':row,'column':column,'square':square, 'val':val}, \\\n",
    "                      ignore_index=True)\n",
    "    print(df)"
   ]
  },
  {
   "cell_type": "code",
   "execution_count": null,
   "metadata": {},
   "outputs": [],
   "source": [
    "class Solution:\n",
    "    def isValidSudoku(self, board: List[List[str]]) -> bool:\n",
    "        valid = True\n",
    "\n",
    "        row_val = 0\n",
    "        column_val = 0\n",
    "\n",
    "        checked = {'row':dict(), 'column':dict(), 'square':dict()}\n",
    "        for i in range(9):\n",
    "            checked['row'][i] = []\n",
    "            checked['column'][i] = []\n",
    "            for j in range(3):\n",
    "                checked['square'][(i//3, j)] = []\n",
    "        \n",
    "        for row in board:\n",
    "            if not valid:\n",
    "                break\n",
    "            for val in row:\n",
    "                if val == '.':\n",
    "                    column_val += 1\n",
    "                    continue\n",
    "                square = (row_val//3, column_val//3)\n",
    "\n",
    "                if val in checked['square'][square]:\n",
    "                    valid = False\n",
    "                    break\n",
    "                else:\n",
    "                    checked['square'][square].append(val)\n",
    "                \n",
    "                if val in checked['row'][row_val]:\n",
    "                    valid = False\n",
    "                    break\n",
    "                else:\n",
    "                    checked['row'][row_val].append(val)\n",
    "                \n",
    "                if val in checked['column'][column_val]:\n",
    "                    valid = False\n",
    "                    break\n",
    "                else:\n",
    "                    checked['column'][column_val].append(val)\n",
    "                \n",
    "                column_val += 1\n",
    "            column_val = 0\n",
    "            row_val += 1\n",
    "                \n",
    "        print(checked)\n",
    "\n",
    "        return valid\n"
   ]
  },
  {
   "cell_type": "code",
   "execution_count": 9,
   "metadata": {},
   "outputs": [
    {
     "name": "stdout",
     "output_type": "stream",
     "text": [
      "Empty DataFrame\n",
      "Columns: [row, column, square, val]\n",
      "Index: []\n"
     ]
    },
    {
     "name": "stderr",
     "output_type": "stream",
     "text": [
      "C:\\Users\\mahir\\AppData\\Local\\Temp\\ipykernel_17340\\725881098.py:10: FutureWarning: The frame.append method is deprecated and will be removed from pandas in a future version. Use pandas.concat instead.\n",
      "  df.append({'row':row,'column':column,'square':square, 'val':val}, \\\n",
      "C:\\Users\\mahir\\AppData\\Local\\Temp\\ipykernel_17340\\725881098.py:10: FutureWarning: The frame.append method is deprecated and will be removed from pandas in a future version. Use pandas.concat instead.\n",
      "  df.append({'row':row,'column':column,'square':square, 'val':val}, \\\n",
      "C:\\Users\\mahir\\AppData\\Local\\Temp\\ipykernel_17340\\725881098.py:10: FutureWarning: The frame.append method is deprecated and will be removed from pandas in a future version. Use pandas.concat instead.\n",
      "  df.append({'row':row,'column':column,'square':square, 'val':val}, \\\n"
     ]
    }
   ],
   "source": [
    "isValidSudoku([['x','s','x']])"
   ]
  },
  {
   "cell_type": "code",
   "execution_count": null,
   "metadata": {},
   "outputs": [],
   "source": []
  }
 ],
 "metadata": {
  "kernelspec": {
   "display_name": "base",
   "language": "python",
   "name": "python3"
  },
  "language_info": {
   "codemirror_mode": {
    "name": "ipython",
    "version": 3
   },
   "file_extension": ".py",
   "mimetype": "text/x-python",
   "name": "python",
   "nbconvert_exporter": "python",
   "pygments_lexer": "ipython3",
   "version": "3.11.3"
  }
 },
 "nbformat": 4,
 "nbformat_minor": 2
}
