{
 "cells": [
  {
   "cell_type": "code",
   "execution_count": null,
   "metadata": {},
   "outputs": [],
   "source": [
    "class Solution:\n",
    "    # time efficient, not space\n",
    "    def rotate(self, nums: List[int], k: int) -> None:\n",
    "        \"\"\"\n",
    "        Do not return anything, modify nums in-place instead.\n",
    "        \"\"\"\n",
    "        k %= len(nums)\n",
    "\n",
    "        if k != 0:\n",
    "            nums[:0] = nums[-k:]\n",
    "            del nums[-k:]\n",
    "\n",
    "        # k %= len(nums)\n",
    "\n",
    "        # new_nums = []\n",
    "\n",
    "        # new_nums = nums[-k:]\n",
    "        # del nums[-k:]\n",
    "\n",
    "        # nums[:0] = new_nums\n",
    "\n",
    "    # time efficient, not space efficient\n",
    "    def rotate(self, nums: List[int], k: int) -> None:\n",
    "        \"\"\"\n",
    "        Do not return anything, modify nums in-place instead.\n",
    "        \"\"\"\n",
    "        if k > len(nums):\n",
    "            k %= len(nums)\n",
    "\n",
    "        new_nums = []\n",
    "        for i in range(k):\n",
    "            new_nums.append(nums.pop(-1))\n",
    "        \n",
    "        new_nums.reverse()\n",
    "        nums[:0] = new_nums\n",
    "     \n",
    "    # space efficient, not time\n",
    "    def rotate(self, nums: List[int], k: int) -> None:\n",
    "        for i in range(k):\n",
    "                nums[:0] = [nums.pop(-1)]\n",
    "\n",
    "    # inefficient\n",
    "    def rotate(self, nums: List[int], k: int) -> None:\n",
    "        for i in range(k):\n",
    "                nums.insert(0,nums.pop(-1))"
   ]
  }
 ],
 "metadata": {
  "language_info": {
   "name": "python"
  }
 },
 "nbformat": 4,
 "nbformat_minor": 2
}
